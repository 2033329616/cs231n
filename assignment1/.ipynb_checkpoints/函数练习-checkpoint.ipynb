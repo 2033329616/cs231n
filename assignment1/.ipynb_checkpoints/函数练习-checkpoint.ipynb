{
 "cells": [
  {
   "cell_type": "markdown",
   "metadata": {},
   "source": [
    "# numpy的函数实例练习"
   ]
  },
  {
   "cell_type": "markdown",
   "metadata": {},
   "source": [
    "### 1.np.random.choice(a, size=None, replace=True, p=None)"
   ]
  },
  {
   "cell_type": "code",
   "execution_count": 112,
   "metadata": {},
   "outputs": [
    {
     "data": {
      "text/plain": [
       "array([7, 1, 3, 3])"
      ]
     },
     "execution_count": 112,
     "metadata": {},
     "output_type": "execute_result"
    }
   ],
   "source": [
    "import numpy as np\n",
    "a = np.array([1,2,3,4,5,6,7,8,9,10])\n",
    "out = np.random.choice(a, 4, replace=False) # 4表示采样几个值，replace为True可以出现重复，a可以是列表或整数\n",
    "out"
   ]
  },
  {
   "cell_type": "code",
   "execution_count": 167,
   "metadata": {},
   "outputs": [
    {
     "data": {
      "text/plain": [
       "array([ 5, 10,  5,  9])"
      ]
     },
     "execution_count": 167,
     "metadata": {},
     "output_type": "execute_result"
    }
   ],
   "source": [
    "np.random.randint(0,10,4)     # [0,10)内随机采样4个数，可以重复 与np.random.choice(10,4)相同"
   ]
  },
  {
   "cell_type": "code",
   "execution_count": 177,
   "metadata": {},
   "outputs": [
    {
     "data": {
      "text/plain": [
       "array([3, 2, 0])"
      ]
     },
     "execution_count": 177,
     "metadata": {},
     "output_type": "execute_result"
    }
   ],
   "source": [
    "np.random.choice(5, 3, replace=False, p=[0.1, 0, 0.3, 0.6, 0])  # 安装概率p抽样，不重复"
   ]
  },
  {
   "cell_type": "markdown",
   "metadata": {},
   "source": [
    "### 2. np.argsort"
   ]
  },
  {
   "cell_type": "code",
   "execution_count": 183,
   "metadata": {},
   "outputs": [
    {
     "name": "stdout",
     "output_type": "stream",
     "text": [
      "1.元素的排序: [0 1 2 2 3 4 4 6 7 8 9]\n",
      "2.元素排序的序号: [ 9  3  0  4  1  2 10  5  6  7  8]\n"
     ]
    }
   ],
   "source": [
    "a = np.array([2,3,4,1,2,6,7,8,9,0,4])\n",
    "print('1.元素的排序:', np.sort(a))\n",
    "print('2.元素排序的序号:', np.argsort(a))"
   ]
  },
  {
   "cell_type": "code",
   "execution_count": 188,
   "metadata": {},
   "outputs": [
    {
     "data": {
      "text/plain": [
       "[2, 2, 3, 3, 4]"
      ]
     },
     "execution_count": 188,
     "metadata": {},
     "output_type": "execute_result"
    }
   ],
   "source": [
    "a = np.array([2,3,4,1,2,6,7,8,9,0,4])\n",
    "list(a[np.array([0,0,1,1,2])])"
   ]
  },
  {
   "cell_type": "markdown",
   "metadata": {},
   "source": [
    "### 3. Counter "
   ]
  },
  {
   "cell_type": "code",
   "execution_count": 366,
   "metadata": {},
   "outputs": [
    {
     "name": "stdout",
     "output_type": "stream",
     "text": [
      "Counter({4: 8, 2: 1, 3: 1, 5: 1})\n",
      "[(4, 8)] 4\n"
     ]
    }
   ],
   "source": [
    "from collections import Counter,OrderedDict\n",
    "a = np.array([1,1,1,1,2,3,4,4,4,5])\n",
    "b = [2,3,4,4,4,4,4,4,4,4,5]\n",
    "count = Counter(b)         # 统计数据出现的频率，numpy的array和list都行\n",
    "print(count)\n",
    "print(count.most_common(1), count.most_common(1)[0][0])   # 获取票数最高的值"
   ]
  },
  {
   "cell_type": "markdown",
   "metadata": {},
   "source": [
    "### 4. np.bincount"
   ]
  },
  {
   "cell_type": "code",
   "execution_count": 376,
   "metadata": {},
   "outputs": [
    {
     "name": "stdout",
     "output_type": "stream",
     "text": [
      "各个索引出现的次数: [1 2 3 1 0 0 1 1]\n",
      "出现最多次的索引: 2\n"
     ]
    }
   ],
   "source": [
    "a = [0,2,2,2,3,1,1,7,6]   # 先看最大值为7\n",
    "b = np.bincount(a)\n",
    "print('各个索引出现的次数:', b)          # 结果对应索引0->7\n",
    "print('出现最多次的索引:', np.argmax(b)) # 如果最大次数有多个，选索引低的输出"
   ]
  },
  {
   "cell_type": "code",
   "execution_count": 380,
   "metadata": {},
   "outputs": [
    {
     "data": {
      "text/plain": [
       "3"
      ]
     },
     "execution_count": 380,
     "metadata": {},
     "output_type": "execute_result"
    }
   ],
   "source": []
  },
  {
   "cell_type": "code",
   "execution_count": null,
   "metadata": {},
   "outputs": [],
   "source": []
  }
 ],
 "metadata": {
  "kernelspec": {
   "display_name": "Python 3",
   "language": "python",
   "name": "python3"
  },
  "language_info": {
   "codemirror_mode": {
    "name": "ipython",
    "version": 3
   },
   "file_extension": ".py",
   "mimetype": "text/x-python",
   "name": "python",
   "nbconvert_exporter": "python",
   "pygments_lexer": "ipython3",
   "version": "3.6.4"
  }
 },
 "nbformat": 4,
 "nbformat_minor": 2
}
